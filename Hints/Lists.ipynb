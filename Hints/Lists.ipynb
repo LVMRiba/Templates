{
 "cells": [
  {
   "cell_type": "code",
   "execution_count": 4,
   "id": "b5df985c",
   "metadata": {},
   "outputs": [
    {
     "name": "stdout",
     "output_type": "stream",
     "text": [
      "15\n"
     ]
    }
   ],
   "source": [
    "##### LIST: ATRIBUIÇÃO DE VARIÁVEIS COM ELEMENTOS DE VETOR #####\n",
    "\n",
    "numbers = [0, 1, 2, 3, 4, 5]\n",
    "zero, um, dois, tres, quatro, cinco = numbers\n",
    "print(zero+um+dois+tres+quatro+cinco)"
   ]
  },
  {
   "cell_type": "code",
   "execution_count": 6,
   "id": "89f416a1",
   "metadata": {},
   "outputs": [
    {
     "name": "stdout",
     "output_type": "stream",
     "text": [
      "[0, 1, 2, 3, 4, 5]\n",
      "0 1 2 3 4 5\n"
     ]
    }
   ],
   "source": [
    "##### LIST: PASSANDO VALORES DE LISTA COMO MÉTODOS DE ARGUMENTOS #####\n",
    "numbers = [0, 1, 2, 3, 4, 5]\n",
    "print(numbers)\n",
    "print(*numbers)"
   ]
  },
  {
   "cell_type": "code",
   "execution_count": 7,
   "id": "d4a4e136",
   "metadata": {},
   "outputs": [
    {
     "name": "stdout",
     "output_type": "stream",
     "text": [
      "[1, 2, 3, 4, 5, 6, 7, 8]\n"
     ]
    }
   ],
   "source": [
    "##### LIST: OBTER ELEMENTOS DO MEIO DA LISTA ####\n",
    "_, *elementos_do_meio, _ = [0, 1, 2, 3, 4, 5, 6, 7, 8, 9]\n",
    "print(elementos_do_meio)  # [2, 3, 4, 5, 6, 7]"
   ]
  },
  {
   "cell_type": "code",
   "execution_count": 8,
   "id": "5087a556",
   "metadata": {},
   "outputs": [
    {
     "name": "stdout",
     "output_type": "stream",
     "text": [
      "[0, 2, 4, 6, 8]\n",
      "[1, 3, 5, 7, 9]\n"
     ]
    }
   ],
   "source": [
    "##### LIST: LIST COMPREHENSION #####\n",
    "numbers = [0, 1, 2, 3, 4, 5, 6, 7, 8, 9]\n",
    "even_numbers = [number for number in numbers if number % 2 == 0]\n",
    "odd_numbers = [number for number in numbers if number % 2 == 1]\n",
    "print(even_numbers)\n",
    "print(odd_numbers)"
   ]
  },
  {
   "cell_type": "code",
   "execution_count": 20,
   "id": "f8767dcc",
   "metadata": {},
   "outputs": [
    {
     "name": "stdout",
     "output_type": "stream",
     "text": [
      "[1, 2, 3, 4, 5]\n"
     ]
    }
   ],
   "source": [
    "##### LIST: ADD VALUE IN LIST IN ANY ORDER #####\n",
    "my_list = [2, 3, 4]\n",
    "my_list.append(5)\n",
    "my_list.insert(0, 1)\n",
    "print(my_list)"
   ]
  }
 ],
 "metadata": {
  "kernelspec": {
   "display_name": "Python 3",
   "language": "python",
   "name": "python3"
  },
  "language_info": {
   "codemirror_mode": {
    "name": "ipython",
    "version": 3
   },
   "file_extension": ".py",
   "mimetype": "text/x-python",
   "name": "python",
   "nbconvert_exporter": "python",
   "pygments_lexer": "ipython3",
   "version": "3.6.13"
  }
 },
 "nbformat": 4,
 "nbformat_minor": 5
}
