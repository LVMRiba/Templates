{
 "cells": [
  {
   "cell_type": "code",
   "execution_count": 9,
   "id": "5b0c06ae",
   "metadata": {},
   "outputs": [
    {
     "name": "stdout",
     "output_type": "stream",
     "text": [
      "ABCDEFGHIJKLMNO\n",
      "ACEGIKMO\n",
      "ADGJM\n"
     ]
    }
   ],
   "source": [
    "##### STRING: SLICING STRING #####\n",
    "letters = \"ABCDEFGHIJKLMNOP\"\n",
    "print(letters[0:15])\n",
    "print(letters[0:15:2])\n",
    "print(letters[0:15:3])"
   ]
  },
  {
   "cell_type": "code",
   "execution_count": 10,
   "id": "041fccda",
   "metadata": {},
   "outputs": [
    {
     "name": "stdout",
     "output_type": "stream",
     "text": [
      "PONMLKJIHGFEDCB\n",
      "PNLJHFDB\n",
      "PMJGD\n"
     ]
    }
   ],
   "source": [
    "##### STRING: SLICING STRING (REVERSE) #####\n",
    "letters = \"ABCDEFGHIJKLMNOP\"\n",
    "print(letters[15:0:-1])\n",
    "print(letters[15:0:-2])\n",
    "print(letters[15:0:-3])"
   ]
  },
  {
   "cell_type": "code",
   "execution_count": 14,
   "id": "16d2e6fd",
   "metadata": {},
   "outputs": [
    {
     "name": "stdout",
     "output_type": "stream",
     "text": [
      "False\n",
      "True\n"
     ]
    }
   ],
   "source": [
    "##### STRING: CHECKING STRING START #####\n",
    "string = \"ABCDEF\"\n",
    "print(string.startswith(\"B\"))\n",
    "print(string.startswith(\"A\"))"
   ]
  }
 ],
 "metadata": {
  "kernelspec": {
   "display_name": "Python 3",
   "language": "python",
   "name": "python3"
  },
  "language_info": {
   "codemirror_mode": {
    "name": "ipython",
    "version": 3
   },
   "file_extension": ".py",
   "mimetype": "text/x-python",
   "name": "python",
   "nbconvert_exporter": "python",
   "pygments_lexer": "ipython3",
   "version": "3.6.13"
  }
 },
 "nbformat": 4,
 "nbformat_minor": 5
}
