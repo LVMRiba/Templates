{
 "cells": [
  {
   "cell_type": "code",
   "execution_count": 23,
   "id": "aa0d120a",
   "metadata": {},
   "outputs": [
    {
     "name": "stdout",
     "output_type": "stream",
     "text": [
      "A,B,C,D,A\n"
     ]
    }
   ],
   "source": [
    "##### TRICKS: PRINT: ADVANCED PRINT #####\n",
    "\n",
    "letters = ['A', 'B', 'C', 'D', 'A']\n",
    "\n",
    "text = ''\n",
    "for letter in letters:\n",
    "    text += f\"{letter},\"\n",
    "print(text[0:-1])"
   ]
  },
  {
   "cell_type": "code",
   "execution_count": 27,
   "id": "dcfdd07f",
   "metadata": {},
   "outputs": [
    {
     "name": "stdout",
     "output_type": "stream",
     "text": [
      "1\n",
      "2\n",
      "3\n",
      "4\n",
      "5\n",
      "6\n",
      "[1, 2, 3, 4, 5, 6]\n"
     ]
    }
   ],
   "source": [
    "##### TRICKS: EXTRACTING NESTED DATA #####\n",
    "import itertools\n",
    "\n",
    "a = [[1, 2, 3], [4, 5], [6]]\n",
    "for i in (itertools.chain.from_iterable(a)):\n",
    "    print(i)\n",
    "    \n",
    "print(list(itertools.chain.from_iterable(a)))"
   ]
  },
  {
   "cell_type": "code",
   "execution_count": 28,
   "id": "acce409e",
   "metadata": {},
   "outputs": [
    {
     "name": "stdout",
     "output_type": "stream",
     "text": [
      "4\n"
     ]
    }
   ],
   "source": [
    "##### TRICKS: MOST FREQUENT VALUE [MODA] (max & set) #####\n",
    "lst = [1, 2, 3, 4, 2, 2, 3, 1, 4, 4, 4]\n",
    "print(max(set(lst), key = lst.count))"
   ]
  }
 ],
 "metadata": {
  "kernelspec": {
   "display_name": "Python 3",
   "language": "python",
   "name": "python3"
  },
  "language_info": {
   "codemirror_mode": {
    "name": "ipython",
    "version": 3
   },
   "file_extension": ".py",
   "mimetype": "text/x-python",
   "name": "python",
   "nbconvert_exporter": "python",
   "pygments_lexer": "ipython3",
   "version": "3.6.13"
  }
 },
 "nbformat": 4,
 "nbformat_minor": 5
}
