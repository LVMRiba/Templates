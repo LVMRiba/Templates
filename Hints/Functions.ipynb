{
 "cells": [
  {
   "cell_type": "code",
   "execution_count": 1,
   "id": "666e8824",
   "metadata": {},
   "outputs": [
    {
     "name": "stdout",
     "output_type": "stream",
     "text": [
      "Ímpar:1\n"
     ]
    }
   ],
   "source": [
    "##### CONDITIONALS: ESTRUTURA FOR-ELSE #####\n",
    "list = [2, 4, 6, 8, 1]\n",
    "for number in list:\n",
    "    if number % 2 == 1:\n",
    "        print(f'Ímpar:{number}')\n",
    "        break\n",
    "else:\n",
    "    print('Não há números ímpares')"
   ]
  },
  {
   "cell_type": "code",
   "execution_count": 2,
   "id": "796314de",
   "metadata": {},
   "outputs": [
    {
     "name": "stdout",
     "output_type": "stream",
     "text": [
      "Não há números ímpares\n"
     ]
    }
   ],
   "source": [
    "list = [2, 4, 6, 8]\n",
    "for number in list:\n",
    "    if number % 2 == 1:\n",
    "        print(f'Ímpar:{number}')\n",
    "        break\n",
    "else:\n",
    "    print('Não há números ímpares')"
   ]
  },
  {
   "cell_type": "code",
   "execution_count": 3,
   "id": "04d61c73",
   "metadata": {},
   "outputs": [
    {
     "name": "stdout",
     "output_type": "stream",
     "text": [
      "Não há números ímpares\n",
      "Não há números ímpares\n",
      "Não há números ímpares\n",
      "Não há números ímpares\n",
      "Ímpar:1\n"
     ]
    }
   ],
   "source": [
    "list = [2, 4, 6, 8, 1]\n",
    "for number in list:\n",
    "    if number % 2 == 1:\n",
    "        print(f'Ímpar:{number}')\n",
    "        break\n",
    "    else:\n",
    "        print('Não há números ímpares')"
   ]
  }
 ],
 "metadata": {
  "kernelspec": {
   "display_name": "Python 3",
   "language": "python",
   "name": "python3"
  },
  "language_info": {
   "codemirror_mode": {
    "name": "ipython",
    "version": 3
   },
   "file_extension": ".py",
   "mimetype": "text/x-python",
   "name": "python",
   "nbconvert_exporter": "python",
   "pygments_lexer": "ipython3",
   "version": "3.6.13"
  }
 },
 "nbformat": 4,
 "nbformat_minor": 5
}
