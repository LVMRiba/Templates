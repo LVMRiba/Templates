{
 "cells": [
  {
   "cell_type": "code",
   "execution_count": 24,
   "id": "d47c41af",
   "metadata": {},
   "outputs": [
    {
     "name": "stdout",
     "output_type": "stream",
     "text": [
      "My name is Luiz and I was born in Rio de Janeiro in 1993\n",
      "My name is Luiz and I was born in Rio de Janeiro in 1993\n",
      "My name is Luiz and I was born in Rio de Janeiro in 1993\n"
     ]
    }
   ],
   "source": [
    "##### ALTERNATIVES: PRINT DE DADOS #####\n",
    "\n",
    "name = 'Luiz'\n",
    "city = 'Rio de Janeiro'\n",
    "b_year = 1993 \n",
    "\n",
    "print(\"My name is \" + name + \" and I was born in \" + city + \" in \" + str(b_year))\n",
    "print(\"My name is {} and I was born in {} in {}\".format(name, city, b_year))\n",
    "print(f\"My name is {name} and I was born in {city} in {b_year}\")"
   ]
  },
  {
   "cell_type": "code",
   "execution_count": 1,
   "id": "e39c048b",
   "metadata": {},
   "outputs": [
    {
     "name": "stdout",
     "output_type": "stream",
     "text": [
      "MÉTODO 1\n",
      "['A', 'B', 'C', 'D', 'E', 'F']\n",
      "\n",
      "\n",
      "MÉTODO 2\n",
      "A,B,C,D,E,F\n",
      "\n",
      "\n",
      "MÉTODO 3\n",
      "A\n",
      "B\n",
      "C\n",
      "D\n",
      "E\n",
      "F\n",
      "\n",
      "\n",
      "MÉTODO 4\n",
      "A,B,C,D,E,F,\n",
      "\n",
      "MÉTODO 5\n",
      "A,B,C,D,E,F\n",
      "\n",
      "MÉTODO 6\n",
      "A,B,C,D,E,F\n"
     ]
    }
   ],
   "source": [
    "##### ALTERNATIVES: PRINT DE LISTA #####\n",
    "\n",
    "list = ['A', 'B', 'C', 'D', 'E', 'F']\n",
    "\n",
    "print(\"MÉTODO 1\")\n",
    "print(list)\n",
    "print(\"\\n\")\n",
    "\n",
    "print(\"MÉTODO 2\")\n",
    "print(list[0], list[1], list[2], list[3], list[4], list[5], sep=',')\n",
    "print(\"\\n\")\n",
    "\n",
    "print(\"MÉTODO 3\")\n",
    "for letter in list:\n",
    "    print(letter)\n",
    "print(\"\\n\")\n",
    "\n",
    "print(\"MÉTODO 4\")\n",
    "for letter in list:\n",
    "    print(f\"{letter}\", end=',')\n",
    "print(\"\\n\")\n",
    "\n",
    "print(\"MÉTODO 5\")\n",
    "text = ''\n",
    "for letter in list:\n",
    "    text += letter + ','\n",
    "print(text[0:-1], end='')\n",
    "print('\\n')\n",
    "\n",
    "print(\"MÉTODO 6\")\n",
    "print(*list, sep=',', end='\\n')"
   ]
  },
  {
   "cell_type": "code",
   "execution_count": 23,
   "id": "1c0c135f",
   "metadata": {},
   "outputs": [
    {
     "name": "stdout",
     "output_type": "stream",
     "text": [
      "\n",
      "Minha terra tem palmeiras,\n",
      "Onde canta o Sabiá;\n",
      "As aves, que aqui gorjeiam,\n",
      "Não gorjeiam como lá.\n",
      "\n"
     ]
    }
   ],
   "source": [
    "##### FUNDAMENTALS: COMENTÁRIOS #####\n",
    "\n",
    "\"\"\"\n",
    "Minha terra tem palmeiras,\n",
    "Onde canta o Sabiá;\n",
    "As aves, que aqui gorjeiam,\n",
    "Não gorjeiam como lá.\n",
    "\"\"\"\n",
    "\n",
    "print(\"\"\"\n",
    "Minha terra tem palmeiras,\n",
    "Onde canta o Sabiá;\n",
    "As aves, que aqui gorjeiam,\n",
    "Não gorjeiam como lá.\n",
    "\"\"\")"
   ]
  },
  {
   "cell_type": "code",
   "execution_count": 22,
   "id": "506e40a0",
   "metadata": {},
   "outputs": [
    {
     "name": "stdout",
     "output_type": "stream",
     "text": [
      "1\n"
     ]
    }
   ],
   "source": [
    "##### CONVENTION: ASPAS DUPLAS X ASPAS SIMPLES #####\n",
    "\n",
    "\"\"\"\n",
    "Preferível usar aspas duplas em prints e funções que permitem o uso de dicionários,\n",
    "tais medidas servem para permitir a leitura destes objetos pelo programa e facilidade\n",
    "para o programador a incluir estruturas novas dentro de uma função print, por exemplo.\n",
    "\"\"\"\n",
    "\n",
    "dict = {'A': 1, 'B': 2, 'C': 3}\n",
    "\n",
    "print(f\"{dict['A']}\")"
   ]
  },
  {
   "cell_type": "code",
   "execution_count": null,
   "id": "06b30ec9",
   "metadata": {},
   "outputs": [],
   "source": []
  }
 ],
 "metadata": {
  "kernelspec": {
   "display_name": "Python 3",
   "language": "python",
   "name": "python3"
  },
  "language_info": {
   "codemirror_mode": {
    "name": "ipython",
    "version": 3
   },
   "file_extension": ".py",
   "mimetype": "text/x-python",
   "name": "python",
   "nbconvert_exporter": "python",
   "pygments_lexer": "ipython3",
   "version": "3.6.13"
  }
 },
 "nbformat": 4,
 "nbformat_minor": 5
}
