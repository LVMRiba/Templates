{
 "cells": [
  {
   "cell_type": "code",
   "execution_count": 24,
   "id": "d47c41af",
   "metadata": {},
   "outputs": [
    {
     "name": "stdout",
     "output_type": "stream",
     "text": [
      "My name is Luiz and I was born in Rio de Janeiro in 1993\n",
      "My name is Luiz and I was born in Rio de Janeiro in 1993\n",
      "My name is Luiz and I was born in Rio de Janeiro in 1993\n"
     ]
    }
   ],
   "source": [
    "##### ALTERNATIVES: PRINT DE DADOS #####\n",
    "\n",
    "name = 'Luiz'\n",
    "city = 'Rio de Janeiro'\n",
    "b_year = 1993 \n",
    "\n",
    "print(\"My name is \" + name + \" and I was born in \" + city + \" in \" + str(b_year))\n",
    "print(\"My name is {} and I was born in {} in {}\".format(name, city, b_year))\n",
    "print(f\"My name is {name} and I was born in {city} in {b_year}\")"
   ]
  },
  {
   "cell_type": "code",
   "execution_count": 6,
   "id": "e39c048b",
   "metadata": {},
   "outputs": [
    {
     "name": "stdout",
     "output_type": "stream",
     "text": [
      "MÉTODO 1: Printando a Lista\n",
      "['A', 'B', 'C', 'D', 'E', 'F']\n",
      "\n",
      "\n",
      "MÉTODO 2: Printando por elemento\n",
      "A,B,C,D,E,F\n",
      "\n",
      "\n",
      "MÉTODO 3: Printando em Loop\n",
      "A\n",
      "B\n",
      "C\n",
      "D\n",
      "E\n",
      "F\n",
      "\n",
      "\n",
      "MÉTODO 4: Printando em Loop Organizado\n",
      "A,B,C,D,E,F,\n",
      "\n",
      "MÉTODO 5: Printando com concatenação de strings\n",
      "A,B,C,D,E,F\n",
      "\n",
      "MÉTODO 6: Printando com join e map\n",
      "A,B,C,D,E,F\n",
      "\n",
      "\n",
      "MÉTODO 7: Printando com join\n",
      "A,B,C,D,E,F\n",
      "\n",
      "\n",
      "MÉTODO 8: Printando por elemento através de *\n",
      "A,B,C,D,E,F\n"
     ]
    }
   ],
   "source": [
    "##### ALTERNATIVES: PRINT DE LISTA #####\n",
    "\n",
    "\"\"\"\n",
    "Printar uma lista de elementos em Python é um assunto de conhecimento básico,\n",
    "entretanto pode ser feito da forma mais comum e simples até as menos comuns e\n",
    "curiosas.\n",
    "\"\"\" \n",
    "\n",
    "letters = ['A', 'B', 'C', 'D', 'E', 'F']\n",
    "\n",
    "\n",
    "print(\"MÉTODO 1: Printando a Lista\")\n",
    "print(letters)\n",
    "print(\"\\n\")\n",
    "\n",
    "\n",
    "print(\"MÉTODO 2: Printando por elemento\")\n",
    "print(letters[0], letters[1], letters[2], letters[3], letters[4], letters[5], sep=',')\n",
    "print(\"\\n\")\n",
    "\n",
    "\n",
    "print(\"MÉTODO 3: Printando em Loop\")\n",
    "for letter in letters:\n",
    "    print(letter)\n",
    "print(\"\\n\")\n",
    "\n",
    "\n",
    "print(\"MÉTODO 4: Printando em Loop Organizado\")\n",
    "for letter in letters:\n",
    "    print(letter, end=',')\n",
    "print(\"\\n\")\n",
    "\n",
    "\n",
    "print(\"MÉTODO 5: Printando com concatenação de strings\")\n",
    "text = ''\n",
    "for letter in letters:\n",
    "    text += letter + ','\n",
    "print(text[0:-1], end='')\n",
    "print('\\n')\n",
    "\n",
    "print(\"MÉTODO 6: Printando com join e map\")\n",
    "print(','.join(map(str, letters)))\n",
    "print('\\n')\n",
    "\n",
    "print(\"MÉTODO 7: Printando com join\")\n",
    "print(','.join(letters))\n",
    "print('\\n')\n",
    "\n",
    "print(\"MÉTODO 8: Printando por elemento através de *\")\n",
    "print(*letters, sep=',', end='\\n')"
   ]
  },
  {
   "cell_type": "code",
   "execution_count": null,
   "id": "dfec04da",
   "metadata": {},
   "outputs": [],
   "source": []
  }
 ],
 "metadata": {
  "kernelspec": {
   "display_name": "Python 3",
   "language": "python",
   "name": "python3"
  },
  "language_info": {
   "codemirror_mode": {
    "name": "ipython",
    "version": 3
   },
   "file_extension": ".py",
   "mimetype": "text/x-python",
   "name": "python",
   "nbconvert_exporter": "python",
   "pygments_lexer": "ipython3",
   "version": "3.6.13"
  }
 },
 "nbformat": 4,
 "nbformat_minor": 5
}
