{
 "cells": [
  {
   "cell_type": "code",
   "execution_count": 11,
   "id": "d0024d8d",
   "metadata": {},
   "outputs": [
    {
     "name": "stdout",
     "output_type": "stream",
     "text": [
      "list_1: [1, 2, 3]\n",
      "list_2: [1, 2, 3]\n",
      "list_1 == list_2 ? True\n",
      "list_1 is list_2 ? False\n",
      "list_3: [1, 2, 3]\n",
      "list_4: [1, 2, 3]\n",
      "list_5: [1, 2, 3]\n",
      "list_3 is list_1 ? True\n",
      "list_1: [1, 2, 3, 4]\n",
      "list_2: [1, 2, 3, 5]\n",
      "list_3: [1, 2, 3, 4]\n",
      "list_4: [1, 2, 3]\n",
      "list_5: [1, 2, 3]\n"
     ]
    }
   ],
   "source": [
    "##### CONCEPTS: DIFFERENCE BETWEEN '==' & 'IS' #####\n",
    "list_1 = [1, 2, 3]\n",
    "list_2 = [1, 2, 3]\n",
    "print(f'list_1: {list_1}')\n",
    "print(f'list_2: {list_2}')\n",
    "print(f'list_1 == list_2 ? {list_1 == list_2}')\n",
    "print(f'list_1 is list_2 ? {list_1 is list_2}')\n",
    "\n",
    "import copy\n",
    "\n",
    "list_3 = list_1\n",
    "list_4 = list_1.copy()\n",
    "list_5 = copy.deepcopy(list_1)\n",
    "print(f'list_3: {list_3}')\n",
    "print(f'list_4: {list_4}')\n",
    "print(f'list_5: {list_5}')\n",
    "print(f'list_3 is list_1 ? {list_3 is list_1}')\n",
    "\n",
    "list_2.append(5)\n",
    "list_3.append(4)\n",
    "print(f'list_1: {list_1}')\n",
    "print(f'list_2: {list_2}')\n",
    "print(f'list_3: {list_3}')\n",
    "print(f'list_4: {list_4}')\n",
    "print(f'list_5: {list_5}')"
   ]
  },
  {
   "cell_type": "code",
   "execution_count": 15,
   "id": "0343ad07",
   "metadata": {},
   "outputs": [
    {
     "name": "stdout",
     "output_type": "stream",
     "text": [
      "Positive\n",
      "Zero\n",
      "Negative\n"
     ]
    }
   ],
   "source": [
    "##### CONCEPTS: CONDITIONAL STRUCTURES DON'T NEED ELSE #####\n",
    "def check_number(number):\n",
    "    if number > 0:\n",
    "        return \"Positive\"\n",
    "    elif number == 0:\n",
    "        return \"Zero\"\n",
    "\n",
    "    return \"Negative\"\n",
    "\n",
    "print(check_number(1))\n",
    "print(check_number(0))\n",
    "print(check_number(-1))"
   ]
  },
  {
   "cell_type": "code",
   "execution_count": 21,
   "id": "cdc635bb",
   "metadata": {},
   "outputs": [
    {
     "name": "stdout",
     "output_type": "stream",
     "text": [
      "[[1, 2, 5], ['a', 'b', 'c', 'd']]\n",
      "[[1, 2, 5], ['a', 'b', 'c', 'd']]\n"
     ]
    }
   ],
   "source": [
    "##### CONCEPT: COPY X DEEPCOPY #####\n",
    "first_list = [[1, 2, 3], ['a', 'b', 'c']]\n",
    "\n",
    "second_list = first_list.copy()\n",
    "first_list[1].append('d')\n",
    "first_list[0][2] = 5\n",
    "\n",
    "print(first_list)\n",
    "print(second_list)"
   ]
  },
  {
   "cell_type": "code",
   "execution_count": 22,
   "id": "76d262d8",
   "metadata": {},
   "outputs": [
    {
     "name": "stdout",
     "output_type": "stream",
     "text": [
      "Sorted:\t\t['apple', 'banana', 'grape', 'mango', 'orange', 'pear']\n",
      "Original:\t['orange', 'grape', 'pear', 'apple', 'banana', 'mango']\n",
      "Sort:\t\t['apple', 'banana', 'grape', 'mango', 'orange', 'pear']\n"
     ]
    }
   ],
   "source": [
    "##### CONCEPT: SORT X SORTED #####\n",
    "fruits_A = ['orange', 'grape', 'pear', 'apple', 'banana', 'mango']\n",
    "fruits_B = sorted(fruits_A)\n",
    "print(f'Sorted:\\t\\t{fruits_B}')\n",
    "print(f'Original:\\t{fruits_A}')\n",
    "fruits_A.sort()\n",
    "print(f'Sort:\\t\\t{fruits_A}')"
   ]
  }
 ],
 "metadata": {
  "kernelspec": {
   "display_name": "Python 3",
   "language": "python",
   "name": "python3"
  },
  "language_info": {
   "codemirror_mode": {
    "name": "ipython",
    "version": 3
   },
   "file_extension": ".py",
   "mimetype": "text/x-python",
   "name": "python",
   "nbconvert_exporter": "python",
   "pygments_lexer": "ipython3",
   "version": "3.6.13"
  }
 },
 "nbformat": 4,
 "nbformat_minor": 5
}
